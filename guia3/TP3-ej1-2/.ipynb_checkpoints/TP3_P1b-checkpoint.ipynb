{
 "cells": [
  {
   "cell_type": "code",
   "execution_count": 1,
   "id": "3f086ec7-a583-46cd-b6f3-2ad4f7a2c5ab",
   "metadata": {},
   "outputs": [],
   "source": [
    "import numpy as np\n",
    "import matplotlib.pyplot as plt"
   ]
  },
  {
   "cell_type": "code",
   "execution_count": 2,
   "id": "1d941099-d65d-4255-a84d-1a3bf72da383",
   "metadata": {},
   "outputs": [],
   "source": [
    "import numpy as np\n",
    "import matplotlib.pyplot as plt\n",
    "\n",
    "class Perceptron:\n",
    "    \"\"\"\n",
    "    Implementación de un perceptrón simple.\n",
    "\n",
    "    Atributos:\n",
    "        weights (ndarray): Pesos del perceptrón, incluyendo el bias.\n",
    "        lr (float): Tasa de aprendizaje.\n",
    "        epochs (int): Número de iteraciones para el entrenamiento.\n",
    "    \"\"\"\n",
    "    \n",
    "    def __init__(self, num_inputs: int, lr: float, epochs: int, pesos=None):\n",
    "        \"\"\"\n",
    "        Inicializa el perceptrón.\n",
    "\n",
    "        Args:\n",
    "            num_inputs (int): Número de entradas.\n",
    "            lr (float): Tasa de aprendizaje.\n",
    "            epochs (int): Número de iteraciones para el entrenamiento.\n",
    "            pesos (ndarray, optional): Pesos iniciales del perceptrón. \n",
    "                Si se proporciona, se utilizarán estos pesos.\n",
    "        \"\"\"\n",
    "        if pesos is not None:\n",
    "            self.weights = pesos  # Cargar pesos predefinidos\n",
    "        else:\n",
    "            self.weights = np.random.rand(num_inputs + 1)  # Peso extra para el bias\n",
    "            \n",
    "        self.lr = lr  # Tasa de aprendizaje\n",
    "        self.epochs = epochs  # Número de iteraciones\n",
    "\n",
    "    def act_fn(self, x: np.ndarray, funcion: str = 'step') -> np.ndarray:\n",
    "        \"\"\"Calcula la función de activación.\"\"\"\n",
    "        if funcion == 'step':    \n",
    "            return np.where(x > 0, 1, 0)\n",
    "        elif funcion == 'sigmoid':\n",
    "            return 1 / (1 + np.exp(-x)) \n",
    "        elif funcion == 'relu':\n",
    "            return np.where(x > 0, x, 0)\n",
    "        elif funcion == 'tanh':\n",
    "            return (np.exp(x) - np.exp(-x)) / (np.exp(x) + np.exp(-x))\n",
    "        else:\n",
    "            raise ValueError(\"Función de activación no soportada.\")\n",
    "\n",
    "    def predict(self, inputs: np.ndarray) -> int:\n",
    "        \"\"\"Realiza una predicción basada en las entradas.\"\"\"\n",
    "        return self.act_fn(np.dot(inputs, self.weights[1:]) + self.weights[0])\n",
    "\n",
    "    def compute_cost(self, in_train: np.ndarray, clases: np.ndarray) -> float:\n",
    "        \"\"\"Calcula el costo total (error cuadrático medio).\"\"\"\n",
    "        predicciones = self.predict(in_train)\n",
    "        error = clases - predicciones\n",
    "        return np.mean(error ** 2)\n",
    "\n",
    "    def train(self, in_train: np.ndarray, clases: np.ndarray, verbose: bool = False):\n",
    "        \"\"\"Entrena el perceptrón con las entradas y las clases.\"\"\"\n",
    "        errores = []\n",
    "        for _ in range(self.epochs):\n",
    "            e = 0\n",
    "            for entrada, clase in zip(in_train, clases):\n",
    "                prediccion = self.predict(entrada)\n",
    "                error = clase - prediccion\n",
    "                self.weights[0] += self.lr * error\n",
    "                self.weights[1:] += self.lr * error * entrada\n",
    "                \n",
    "                e += np.abs(error)\n",
    "            errores.append(e)\n",
    "            \n",
    "            # Calcular y almacenar el costo al final de cada época\n",
    "            costo = self.compute_cost(in_train, clases)\n",
    "            print(f\"Época {_ + 1}: Costo = {costo}\")\n",
    "\n",
    "        if verbose:\n",
    "            plt.figure()\n",
    "            plt.plot(errores)\n",
    "            plt.title('Errores durante el entrenamiento')\n",
    "            plt.xlabel('Epochs')\n",
    "            plt.ylabel('Error')\n",
    "            plt.show()\n",
    "\n",
    "    def get_weights(self) -> np.ndarray:\n",
    "        \"\"\"Recupera los pesos del perceptrón.\"\"\"\n",
    "        return self.weights\n",
    "\n",
    "    def plot_decision_boundary(self, in_train: np.ndarray, clases: np.ndarray):\n",
    "        \"\"\"Plotea las entradas y la frontera de decisión del perceptrón.\"\"\"\n",
    "        # Definir el rango para el gráfico\n",
    "        x_min, x_max = in_train[:, 0].min() - 1, in_train[:, 0].max() + 1\n",
    "        y_min, y_max = in_train[:, 1].min() - 1, in_train[:, 1].max() + 1\n",
    "        xx, yy = np.meshgrid(np.linspace(x_min, x_max, 100), \n",
    "                             np.linspace(y_min, y_max, 100))\n",
    "\n",
    "        # Realizar predicciones para cada punto del meshgrid\n",
    "        Z = self.predict(np.c_[xx.ravel(), yy.ravel()])\n",
    "        Z = Z.reshape(xx.shape)\n",
    "\n",
    "        # Crear el gráfico\n",
    "        plt.contourf(xx, yy, Z, alpha=0.8, cmap=plt.cm.coolwarm)\n",
    "        plt.scatter(in_train[:, 0], in_train[:, 1], c=clases, edgecolors='k', marker='o', cmap=plt.cm.coolwarm)\n",
    "        plt.xlabel('Entrada 1')\n",
    "        plt.ylabel('Entrada 2')\n",
    "        plt.title('Frontera de decisión del Perceptrón')\n",
    "        plt.show()\n"
   ]
  },
  {
   "cell_type": "markdown",
   "id": "b26bff14-ab16-4616-8b54-2a684b8d4c36",
   "metadata": {},
   "source": [
    "La **segunda tarea** que le asignaremos al perceptrón es que aprenda a comportarse como una compuerta lógica OR. Esto implica que la neurona deberá ser capaz de producir una salida de 1 cuando al menos una de las entradas sea 1; solo en el caso de que ambas entradas sean 0, la salida deberá ser 0. Puesto en términos de la tabla de verdad:\n",
    "\n",
    "| $x_1$  | $x_2$  |   $y$|\n",
    "| ------ |:------:| -:|\n",
    "| 0      | 0      | 0 |\n",
    "| 0      | 1      | 1 |\n",
    "| 1      | 0      | 1 |\n",
    "| 1      | 1      | 1 |\n",
    "\n",
    "Implementamos matriz de entradas *x* y vector de salidas *y*. Además, instanciamos clase perceptron en un objeto llamado \"ia_or\".\n"
   ]
  },
  {
   "cell_type": "code",
   "execution_count": 3,
   "id": "ba0d38ab-3fad-4558-80d9-0a3a9121b614",
   "metadata": {},
   "outputs": [
    {
     "name": "stdout",
     "output_type": "stream",
     "text": [
      "[[0 0]\n",
      " [0 1]\n",
      " [1 0]\n",
      " [1 1]] [0 1 1 1]\n"
     ]
    }
   ],
   "source": [
    "x = np.array([[0,0], [0,1], [1,0], [1,1]])\n",
    "y = np.array([0, 1, 1, 1])\n",
    "ia_or = Perceptron(num_inputs=2, lr=0.2, epochs=10)\n",
    "print(x, y)"
   ]
  },
  {
   "cell_type": "markdown",
   "id": "ad184e61-c21f-4fb7-914a-1d049da4ec37",
   "metadata": {},
   "source": [
    "Nos ahorramos la inspección inicial de las funciones de activación pues son las mismas que antes. Sí visualicemos los pesos iniciales (aleatorios) y hagamos una predicción sin entrenamiento para constatar mala respuesta."
   ]
  },
  {
   "cell_type": "code",
   "execution_count": 4,
   "id": "e5400f8f-ab21-4af1-a6f0-b239da2dcc70",
   "metadata": {},
   "outputs": [
    {
     "name": "stdout",
     "output_type": "stream",
     "text": [
      "Pesos:  [0.17878516 0.13291148 0.15311859]\n",
      "Predicciones sin entrenamiento:\n",
      "Entradas: [0 0]  Correcto: 0  Predicción: 1\n",
      "Entradas: [0 1]  Correcto: 1  Predicción: 1\n",
      "Entradas: [1 0]  Correcto: 1  Predicción: 1\n",
      "Entradas: [1 1]  Correcto: 1  Predicción: 1\n"
     ]
    }
   ],
   "source": [
    "print(\"Pesos: \", ia_or.get_weights())\n",
    "print(\"Predicciones sin entrenamiento:\")\n",
    "for entradas, label in zip(x, y):\n",
    "  prediccion = ia_or.predict(entradas)\n",
    "  print('Entradas:', entradas, ' Correcto:', label, ' Predicción:', prediccion)"
   ]
  },
  {
   "cell_type": "markdown",
   "id": "f287aed7-2252-474b-9d00-e565887707ed",
   "metadata": {},
   "source": [
    "Entrenemos la neurona (con *verbose*) y volvemos a correr predicción:"
   ]
  },
  {
   "cell_type": "code",
   "execution_count": 5,
   "id": "5003f3b9-6c8e-4157-9773-0e9fc0149dfe",
   "metadata": {},
   "outputs": [
    {
     "name": "stdout",
     "output_type": "stream",
     "text": [
      "Época 1: Costo = 0.0\n",
      "Época 2: Costo = 0.0\n",
      "Época 3: Costo = 0.0\n",
      "Época 4: Costo = 0.0\n",
      "Época 5: Costo = 0.0\n",
      "Época 6: Costo = 0.0\n",
      "Época 7: Costo = 0.0\n",
      "Época 8: Costo = 0.0\n",
      "Época 9: Costo = 0.0\n",
      "Época 10: Costo = 0.0\n"
     ]
    },
    {
     "data": {
      "image/png": "[encoded data removed]",
      "text/plain": [
       "<Figure size 640x480 with 1 Axes>"
      ]
     },
     "metadata": {},
     "output_type": "display_data"
    },
    {
     "name": "stdout",
     "output_type": "stream",
     "text": [
      "Entradas: [0 0]  Correcto: 0  Predicción: 0\n",
      "Entradas: [0 1]  Correcto: 1  Predicción: 1\n",
      "Entradas: [1 0]  Correcto: 1  Predicción: 1\n",
      "Entradas: [1 1]  Correcto: 1  Predicción: 1\n"
     ]
    },
    {
     "data": {
      "image/png": "[encoded data removed]",
      "text/plain": [
       "<Figure size 640x480 with 1 Axes>"
      ]
     },
     "metadata": {},
     "output_type": "display_data"
    }
   ],
   "source": [
    "ia_or.train(x, y, True)\n",
    "for entradas, label in zip(x, y):\n",
    "  prediccion = ia_or.predict(entradas)\n",
    "  print('Entradas:', entradas, ' Correcto:', label, ' Predicción:', prediccion)\n",
    "ia_or.plot_decision_boundary(x,y)"
   ]
  },
  {
   "cell_type": "markdown",
   "id": "dd668884-78d9-4a58-a584-dc0509415f10",
   "metadata": {},
   "source": [
    "Se puede ver la convergencia de la función de costo. Además, se nota que las predicciones ahora son correctas. Finalmente, los pesos de la neurona quedan:"
   ]
  },
  {
   "cell_type": "code",
   "execution_count": 6,
   "id": "b256cfe3-ba51-4210-9072-3fa9b0b4175e",
   "metadata": {},
   "outputs": [
    {
     "name": "stdout",
     "output_type": "stream",
     "text": [
      "Bias: -0.021214843909617753, W1: 0.1329114778595536, W2: 0.15311858516749122\n"
     ]
    }
   ],
   "source": [
    "print(\"Bias: {}, W1: {}, W2: {}\".format(*ia_or.get_weights()))\n"
   ]
  }
 ],
 "metadata": {
  "kernelspec": {
   "display_name": "Python 3 (ipykernel)",
   "language": "python",
   "name": "python3"
  },
  "language_info": {
   "codemirror_mode": {
    "name": "ipython",
    "version": 3
   },
   "file_extension": ".py",
   "mimetype": "text/x-python",
   "name": "python",
   "nbconvert_exporter": "python",
   "pygments_lexer": "ipython3",
   "version": "3.11.2"
  }
 },
 "nbformat": 4,
 "nbformat_minor": 5
}
