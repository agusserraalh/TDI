{
 "cells": [
  {
   "cell_type": "code",
   "execution_count": null,
   "id": "0aff3cc7-02d6-4d0b-b659-bb261d11dc00",
   "metadata": {},
   "outputs": [],
   "source": [
    "import cv2\n",
    "from PIL import Image, ImageDraw, ImageFont\n",
    "import time"
   ]
  },
  {
   "cell_type": "markdown",
   "id": "3d46f0d7-76f8-4073-b6c1-91e7f265acac",
   "metadata": {},
   "source": [
    "## Problema 1\n",
    "Utilizando la librería OpenCv capturar una imagen sencilla desde la webcam y guardarla con el nombre “captura.jpg”"
   ]
  },
  {
   "cell_type": "code",
   "execution_count": null,
   "id": "930cd255-146d-4205-a70e-9b71512d05f3",
   "metadata": {},
   "outputs": [],
   "source": [
    "camera = cv2.VideoCapture(0)\n",
    "return_value, image = camera.read()\n",
    "cv2.imwrite('captura2.jpg', image)\n",
    "del(camera)"
   ]
  },
  {
   "cell_type": "code",
   "execution_count": null,
   "id": "e349b330-a0b4-4cb2-b490-e8a2a50e3b09",
   "metadata": {},
   "outputs": [],
   "source": []
  }
 ],
 "metadata": {
  "kernelspec": {
   "display_name": "Python 3 (ipykernel)",
   "language": "python",
   "name": "python3"
  },
  "language_info": {
   "codemirror_mode": {
    "name": "ipython",
    "version": 3
   },
   "file_extension": ".py",
   "mimetype": "text/x-python",
   "name": "python",
   "nbconvert_exporter": "python",
   "pygments_lexer": "ipython3",
   "version": "3.10.12"
  }
 },
 "nbformat": 4,
 "nbformat_minor": 5
}
